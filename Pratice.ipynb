{
  "nbformat": 4,
  "nbformat_minor": 0,
  "metadata": {
    "colab": {
      "provenance": []
    },
    "kernelspec": {
      "name": "python3",
      "display_name": "Python 3"
    },
    "language_info": {
      "name": "python"
    }
  },
  "cells": [
    {
      "cell_type": "code",
      "execution_count": 65,
      "metadata": {
        "id": "nhpcf-6OPIsQ"
      },
      "outputs": [],
      "source": [
        "product_name = \"Laptop\"\n",
        "price = 1200\n",
        "quantity = 10\n",
        "\n",
        "# Strings\n",
        "customer_name = \"John Doe\"\n",
        "city = \"New York\"\n",
        "email = \"john.doe@example.com\"\n",
        "\n",
        "# Tuples (immutable sequences)\n",
        "product_details = (\"Tablet\", 300, 5) # (name, price, quantity)\n",
        "coordinates = (10.5, 20.2) # (latitude, longitude)\n",
        "\n",
        "# Lists (mutable sequences)\n",
        "sales_data = [1500, 1200, 1800, 2000, 1600] # Weekly Sales\n",
        "customer_orders = [\"Laptop\", \"Mouse\", \"Keyboard\", \"Laptop\"]\n",
        "\n",
        "# Dictionaries (key-value pairs)\n",
        "product_catalog = {\n",
        "\"Laptop\": {\"price\": 1200, \"quantity\": 10},\n",
        "\"Mouse\": {\"price\": 25, \"quantity\": 50},\n",
        "\"Keyboard\": {\"price\": 75, \"quantity\": 30},\n",
        "}\n",
        "\n",
        "customer_info = {\n",
        "\"name\": \"Jane Smith\",\n",
        "\"city\": \"London\",\n",
        "\"orders\": [\"Phone\", \"Case\"]\n",
        "}\n"
      ]
    },
    {
      "cell_type": "markdown",
      "source": [
        "Task 1: Product Analysis\n",
        "* Scenario: You have information about products stored in variables, tuples, lists, and\n",
        "dictionaries.\n",
        "* Tasks:\n",
        "* Calculate the total revenue for the Laptop by multiplying its price and quantity.\n",
        "* Extract the price and quantity of the \"Mouse\" from the product_catalog dictionary.\n",
        "* Calculate the total number of items in the sales_data list.\n",
        "* Find the average sale amount from the sales_data list.\n",
        "* Determine if \"Keyboard\" exists as a key in the product_catalog.\n"
      ],
      "metadata": {
        "id": "WP6own9iPb9a"
      }
    },
    {
      "cell_type": "code",
      "source": [
        "total_revenue = price * quantity\n",
        "print(\"The total revenue is\", total_revenue)"
      ],
      "metadata": {
        "colab": {
          "base_uri": "https://localhost:8080/",
          "height": 0
        },
        "id": "OShFATzLPOLU",
        "outputId": "03681293-b7ab-4a2b-9a99-cf8675ee3274"
      },
      "execution_count": 4,
      "outputs": [
        {
          "output_type": "stream",
          "name": "stdout",
          "text": [
            "The total revenue is 12000\n"
          ]
        }
      ]
    },
    {
      "cell_type": "code",
      "source": [
        "product_catalog[\"Mouse\"]"
      ],
      "metadata": {
        "colab": {
          "base_uri": "https://localhost:8080/",
          "height": 0
        },
        "id": "BIOHm5HfPq1E",
        "outputId": "81a89202-3e48-44d4-91b4-d7c4cc48a713"
      },
      "execution_count": 5,
      "outputs": [
        {
          "output_type": "execute_result",
          "data": {
            "text/plain": [
              "{'price': 25, 'quantity': 50}"
            ]
          },
          "metadata": {},
          "execution_count": 5
        }
      ]
    },
    {
      "cell_type": "code",
      "source": [
        "len(sales_data)"
      ],
      "metadata": {
        "colab": {
          "base_uri": "https://localhost:8080/",
          "height": 0
        },
        "id": "h3cF341rQjc7",
        "outputId": "65a03438-f365-4c8e-80e6-4ed871be6e9c"
      },
      "execution_count": 16,
      "outputs": [
        {
          "output_type": "execute_result",
          "data": {
            "text/plain": [
              "5"
            ]
          },
          "metadata": {},
          "execution_count": 16
        }
      ]
    },
    {
      "cell_type": "code",
      "source": [
        "sum(sales_data)/len(sales_data)"
      ],
      "metadata": {
        "colab": {
          "base_uri": "https://localhost:8080/",
          "height": 0
        },
        "id": "MrftaA3pRRp5",
        "outputId": "74c65920-ce93-4066-cbbc-2db2a1aed067"
      },
      "execution_count": 22,
      "outputs": [
        {
          "output_type": "execute_result",
          "data": {
            "text/plain": [
              "1620.0"
            ]
          },
          "metadata": {},
          "execution_count": 22
        }
      ]
    },
    {
      "cell_type": "code",
      "source": [
        "'Keyboard' in product_catalog"
      ],
      "metadata": {
        "colab": {
          "base_uri": "https://localhost:8080/",
          "height": 0
        },
        "id": "0E_dgn2XTZ7a",
        "outputId": "4f966dd7-8389-4810-8488-8bc0534901a0"
      },
      "execution_count": 23,
      "outputs": [
        {
          "output_type": "execute_result",
          "data": {
            "text/plain": [
              "True"
            ]
          },
          "metadata": {},
          "execution_count": 23
        }
      ]
    },
    {
      "cell_type": "code",
      "source": [],
      "metadata": {
        "id": "3PENq6iBUt6-"
      },
      "execution_count": null,
      "outputs": []
    },
    {
      "cell_type": "markdown",
      "source": [
        "Task 2: Customer Analysis\n",
        "* Scenario: Customer information is stored in strings and dictionaries.\n",
        "* Tasks:\n",
        "* Extract the customer's last name from the customer_name string.\n",
        "* Create a new string that combines the customer's name and city (e.g., \"John Doe, New\n",
        "York\").\n",
        "* Access the customer's orders from the customer_info dictionary.\n",
        "* Count the number of items in the customer's order list.\n",
        "* Add a new key-value pair to the customer_info dictionary for the customer's email address"
      ],
      "metadata": {
        "id": "to0NpxJ-UuYr"
      }
    },
    {
      "cell_type": "code",
      "source": [
        "customer_name.split(' ')[1]"
      ],
      "metadata": {
        "colab": {
          "base_uri": "https://localhost:8080/",
          "height": 35
        },
        "id": "7Unf43lRUvqm",
        "outputId": "a38d1dee-69d2-456b-a796-3277f3b60eac"
      },
      "execution_count": 30,
      "outputs": [
        {
          "output_type": "execute_result",
          "data": {
            "text/plain": [
              "'Doe'"
            ],
            "application/vnd.google.colaboratory.intrinsic+json": {
              "type": "string"
            }
          },
          "metadata": {},
          "execution_count": 30
        }
      ]
    },
    {
      "cell_type": "code",
      "source": [
        "CC=customer_name + ',' +city\n",
        "print(CC)"
      ],
      "metadata": {
        "colab": {
          "base_uri": "https://localhost:8080/",
          "height": 0
        },
        "id": "FWdW2RVkVaUG",
        "outputId": "d0d8e8b1-b66d-4e96-8e46-f1454c1ff045"
      },
      "execution_count": 37,
      "outputs": [
        {
          "output_type": "stream",
          "name": "stdout",
          "text": [
            "John Doe,New York\n"
          ]
        }
      ]
    },
    {
      "cell_type": "code",
      "source": [
        "customer_info['orders']"
      ],
      "metadata": {
        "colab": {
          "base_uri": "https://localhost:8080/",
          "height": 0
        },
        "id": "2U1LnQMEXMzC",
        "outputId": "37068e33-6eeb-46bf-a666-020a77526fb7"
      },
      "execution_count": 43,
      "outputs": [
        {
          "output_type": "execute_result",
          "data": {
            "text/plain": [
              "['Phone', 'Case']"
            ]
          },
          "metadata": {},
          "execution_count": 43
        }
      ]
    },
    {
      "cell_type": "code",
      "source": [
        "len(customer_orders)"
      ],
      "metadata": {
        "colab": {
          "base_uri": "https://localhost:8080/",
          "height": 0
        },
        "id": "Arb9yUvgYCZ9",
        "outputId": "b4cca6a1-5616-40bf-cf92-8aca540c43d9"
      },
      "execution_count": 45,
      "outputs": [
        {
          "output_type": "execute_result",
          "data": {
            "text/plain": [
              "4"
            ]
          },
          "metadata": {},
          "execution_count": 45
        }
      ]
    },
    {
      "cell_type": "code",
      "source": [
        "customer_info['email'] = 'isreal@nupat.com'\n",
        "print(customer_info)"
      ],
      "metadata": {
        "colab": {
          "base_uri": "https://localhost:8080/",
          "height": 0
        },
        "id": "NrDWRZGJYyf-",
        "outputId": "8569ee58-c4a8-4d97-d42f-200a069e9037"
      },
      "execution_count": 51,
      "outputs": [
        {
          "output_type": "stream",
          "name": "stdout",
          "text": [
            "{'name': 'Jane Smith', 'city': 'London', 'orders': ['Phone', 'Case'], 'email': 'isreal@nupat.com'}\n"
          ]
        }
      ]
    },
    {
      "cell_type": "code",
      "source": [],
      "metadata": {
        "id": "la3_Z6zxaKyv"
      },
      "execution_count": null,
      "outputs": []
    },
    {
      "cell_type": "markdown",
      "source": [
        "Task 3: Inventory Management\n",
        "* Scenario: Product details are stored in tuples and dictionaries.\n",
        "* Tasks:\n",
        "* Access the quantity of \"Tablet\" from the product_details tuple.\n",
        "* Update the quantity of \"Laptop\" in the product_catalog by adding 5 more units.\n",
        "* Create a list of all product names from the product_catalog.\n",
        "* Calculate the total value of all \"Mouse\" products in inventory (price * quantity) using the\n",
        "product_catalog."
      ],
      "metadata": {
        "id": "6aSdDlLdaLq3"
      }
    },
    {
      "cell_type": "code",
      "source": [
        "Tablet_qty=product_details[2]\n",
        "print('the quantity of Tablet is',Tablet_qty)"
      ],
      "metadata": {
        "colab": {
          "base_uri": "https://localhost:8080/",
          "height": 0
        },
        "id": "f5y-yv22aMxv",
        "outputId": "36586298-3d01-45a1-cdf1-67ae7ca051b2"
      },
      "execution_count": 61,
      "outputs": [
        {
          "output_type": "stream",
          "name": "stdout",
          "text": [
            "the quantity of Tablet is 5\n"
          ]
        }
      ]
    },
    {
      "cell_type": "code",
      "source": [
        "product_catalog[\"Laptop\"]['quantity'] = 15\n",
        "product_catalog\n"
      ],
      "metadata": {
        "colab": {
          "base_uri": "https://localhost:8080/",
          "height": 0
        },
        "id": "6MhalYeabwq9",
        "outputId": "098785e6-5088-48c7-8d05-58dcb11ec2b7"
      },
      "execution_count": 71,
      "outputs": [
        {
          "output_type": "execute_result",
          "data": {
            "text/plain": [
              "{'Laptop': {'price': 1200, 'quantity': 15},\n",
              " 'Mouse': {'price': 25, 'quantity': 50},\n",
              " 'Keyboard': {'price': 75, 'quantity': 30}}"
            ]
          },
          "metadata": {},
          "execution_count": 71
        }
      ]
    },
    {
      "cell_type": "code",
      "source": [
        "product_catalog.keys()"
      ],
      "metadata": {
        "colab": {
          "base_uri": "https://localhost:8080/",
          "height": 0
        },
        "id": "7lGfMuzZc3-r",
        "outputId": "f0557607-fba1-4516-de2b-5eba874d29fa"
      },
      "execution_count": 85,
      "outputs": [
        {
          "output_type": "execute_result",
          "data": {
            "text/plain": [
              "dict_keys(['Laptop', 'Mouse', 'Keyboard'])"
            ]
          },
          "metadata": {},
          "execution_count": 85
        }
      ]
    },
    {
      "cell_type": "code",
      "source": [
        "Total_Value=product_catalog['Mouse']['price'] * product_catalog['Mouse']['quantity']\n",
        "Total_Value"
      ],
      "metadata": {
        "colab": {
          "base_uri": "https://localhost:8080/",
          "height": 0
        },
        "id": "c9TXv_kteUYD",
        "outputId": "98be7b2c-8ca5-45d6-a1b1-4017bf098824"
      },
      "execution_count": 92,
      "outputs": [
        {
          "output_type": "execute_result",
          "data": {
            "text/plain": [
              "1250"
            ]
          },
          "metadata": {},
          "execution_count": 92
        }
      ]
    },
    {
      "cell_type": "code",
      "source": [],
      "metadata": {
        "id": "eMlBCW5QflRg"
      },
      "execution_count": null,
      "outputs": []
    },
    {
      "cell_type": "markdown",
      "source": [
        "Task 4: Sales Trend Analysis\n",
        "* Scenario: Weekly sales data is available in a list.\n",
        "* Tasks:\n",
        "* Find the highest and lowest sales amounts from the sales_data list.\n",
        "* Calculate the difference between the highest and lowest sales.\n",
        "* Calculate the percentage change in sales from the first week to the last week.\n",
        "These tasks focus on manipulating and analyzing data within the given Python data structures.\n",
        "They mirror the kind of operations a data analyst might perform, but on a smaller, more\n",
        "illustrative scale. They avoid the complexity of file I/O or external libraries, focusing on the core\n",
        "Python syntax."
      ],
      "metadata": {
        "id": "HcxsZ80mf9Tv"
      }
    },
    {
      "cell_type": "markdown",
      "source": [
        "|"
      ],
      "metadata": {
        "id": "o3X0Yyyff9rp"
      }
    },
    {
      "cell_type": "code",
      "source": [
        "lowest_sales=min(sales_data)"
      ],
      "metadata": {
        "id": "X9L9pIVIf9_w"
      },
      "execution_count": 96,
      "outputs": []
    },
    {
      "cell_type": "code",
      "source": [
        "highest_sales=max(sales_data)"
      ],
      "metadata": {
        "id": "8XqH7A8NgKv9"
      },
      "execution_count": 97,
      "outputs": []
    },
    {
      "cell_type": "code",
      "source": [
        "max(sales_data)-min(sales_data)"
      ],
      "metadata": {
        "colab": {
          "base_uri": "https://localhost:8080/",
          "height": 0
        },
        "id": "wmpxfsSWgZP7",
        "outputId": "e61ac91d-1cb6-41f1-d180-e1677ab97a32"
      },
      "execution_count": 99,
      "outputs": [
        {
          "output_type": "execute_result",
          "data": {
            "text/plain": [
              "800"
            ]
          },
          "metadata": {},
          "execution_count": 99
        }
      ]
    },
    {
      "cell_type": "code",
      "source": [
        "highest_sales-lowest_sales"
      ],
      "metadata": {
        "colab": {
          "base_uri": "https://localhost:8080/",
          "height": 0
        },
        "id": "MrjCV2trgzE4",
        "outputId": "4ad2a7f9-80e9-4f61-d36b-cfad85ee891d"
      },
      "execution_count": 100,
      "outputs": [
        {
          "output_type": "execute_result",
          "data": {
            "text/plain": [
              "800"
            ]
          },
          "metadata": {},
          "execution_count": 100
        }
      ]
    },
    {
      "cell_type": "code",
      "source": [
        "sales_data"
      ],
      "metadata": {
        "colab": {
          "base_uri": "https://localhost:8080/",
          "height": 0
        },
        "id": "Fuy-zdwMhp2C",
        "outputId": "4321c1b2-43bb-4eca-f75c-7aa6db77e3f4"
      },
      "execution_count": 106,
      "outputs": [
        {
          "output_type": "execute_result",
          "data": {
            "text/plain": [
              "[1500, 1200, 1800, 2000, 1600]"
            ]
          },
          "metadata": {},
          "execution_count": 106
        }
      ]
    },
    {
      "cell_type": "code",
      "source": [
        "round((sales_data[-1] - sales_data[0]) / sum(sales_data) * 100, 2)"
      ],
      "metadata": {
        "colab": {
          "base_uri": "https://localhost:8080/",
          "height": 0
        },
        "id": "vqralPp-hXNb",
        "outputId": "335c270b-aa03-4a79-904e-0055e24ad47e"
      },
      "execution_count": 105,
      "outputs": [
        {
          "output_type": "execute_result",
          "data": {
            "text/plain": [
              "1.23"
            ]
          },
          "metadata": {},
          "execution_count": 105
        }
      ]
    },
    {
      "cell_type": "code",
      "source": [],
      "metadata": {
        "id": "pBB4kGcwhbD-"
      },
      "execution_count": null,
      "outputs": []
    }
  ]
}